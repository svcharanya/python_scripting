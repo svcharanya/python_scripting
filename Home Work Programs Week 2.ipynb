{
 "cells": [
  {
   "cell_type": "code",
   "execution_count": 1,
   "metadata": {},
   "outputs": [],
   "source": [
    "# 12/09 practising all string func and dict funct"
   ]
  },
  {
   "cell_type": "markdown",
   "metadata": {},
   "source": [
    "1. With a given list [12,24,35,24,88,155,88,120,155], write a program to print this list after       removing all duplicate values with original order reserved.\n",
    "    input  : [12,24,35,24,88,155,88,120,155]\n",
    "       output  : [12, 24, 35, 88, 155, 120]\n",
    "        \n",
    "        using SET"
   ]
  },
  {
   "cell_type": "markdown",
   "metadata": {},
   "source": [
    "#13/09\n",
    "1. Write a program to covert celcius to fahrenheit \n",
    "> use user defined func and anonymous function \n",
    "\n",
    "        input = {'Chennai' : 36, 'Bangalore' : 29, 'Hyd':34, 'DElhi': 29, 'Mumbai': 35}\n",
    "        F = (9/5)*C + 32\n",
    "        output = {'Chennai' : 36, 'Bangalore' : 29, 'Hyd':34, 'DElhi': 29, 'Mumbai': 35}"
   ]
  },
  {
   "cell_type": "code",
   "execution_count": 15,
   "metadata": {},
   "outputs": [
    {
     "name": "stdout",
     "output_type": "stream",
     "text": [
      "Chennai\n",
      "Bangalore\n",
      "Hyd\n",
      "Delhi\n",
      "Mumbai\n"
     ]
    },
    {
     "data": {
      "text/plain": [
       "{'Chennai': 96.8,\n",
       " 'Bangalore': 84.2,\n",
       " 'Hyd': 93.2,\n",
       " 'Delhi': 84.2,\n",
       " 'Mumbai': 95.0}"
      ]
     },
     "execution_count": 15,
     "metadata": {},
     "output_type": "execute_result"
    }
   ],
   "source": [
    "# way 1 usual approach\n",
    "dict1= {'Chennai' : 36, 'Bangalore' : 29, 'Hyd':34, 'Delhi': 29, 'Mumbai': 35}\n",
    "dict2 = {}\n",
    "for i in dict1:\n",
    "    print(i)\n",
    "    f = (9/5)* dict1[i] + 32\n",
    "    dict2[i] = f\n",
    "    \n",
    "dict2\n",
    "    \n",
    "    "
   ]
  },
  {
   "cell_type": "code",
   "execution_count": 33,
   "metadata": {},
   "outputs": [],
   "source": [
    "# way2 using user defined function approach\n",
    "\n",
    "def cel_to_fah(**kwargs): \n",
    "    dictb = {}\n",
    "    for k,v in kwargs.items():\n",
    "        print(k,v)\n",
    "        f = (9/5)* v + 32\n",
    "        dictb[k] = f\n",
    "    return dictb\n",
    "    "
   ]
  },
  {
   "cell_type": "code",
   "execution_count": 35,
   "metadata": {
    "scrolled": true
   },
   "outputs": [
    {
     "name": "stdout",
     "output_type": "stream",
     "text": [
      "Chennai 36\n",
      "Bangalore 29\n",
      "Hyd 34\n",
      "Delhi 29\n",
      "Mumbai 35\n"
     ]
    },
    {
     "data": {
      "text/plain": [
       "{'Chennai': 96.8,\n",
       " 'Bangalore': 84.2,\n",
       " 'Hyd': 93.2,\n",
       " 'Delhi': 84.2,\n",
       " 'Mumbai': 95.0}"
      ]
     },
     "execution_count": 35,
     "metadata": {},
     "output_type": "execute_result"
    }
   ],
   "source": [
    "dictA= {'Chennai' : 36, 'Bangalore' : 29, 'Hyd':34, 'Delhi': 29, 'Mumbai': 35}\n",
    "cel_to_fah(Chennai = 36, Bangalore = 29, Hyd= 34, Delhi= 29, Mumbai= 35)"
   ]
  },
  {
   "cell_type": "code",
   "execution_count": 39,
   "metadata": {},
   "outputs": [],
   "source": [
    "def cel_to_fah1(**kwargs): \n",
    "    dictb = {}\n",
    "    for i in kwargs.items():\n",
    "        print(i)\n",
    "        f = (9/5)* i[1] + 32\n",
    "        print(f)\n",
    "        dictb[i[0]] = f\n",
    "    return dictb"
   ]
  },
  {
   "cell_type": "code",
   "execution_count": 40,
   "metadata": {},
   "outputs": [
    {
     "name": "stdout",
     "output_type": "stream",
     "text": [
      "('Chennai', 36)\n",
      "96.8\n",
      "('Bangalore', 29)\n",
      "84.2\n",
      "('Hyd', 34)\n",
      "93.2\n",
      "('Delhi', 29)\n",
      "84.2\n",
      "('Mumbai', 35)\n",
      "95.0\n"
     ]
    },
    {
     "data": {
      "text/plain": [
       "{'Chennai': 96.8,\n",
       " 'Bangalore': 84.2,\n",
       " 'Hyd': 93.2,\n",
       " 'Delhi': 84.2,\n",
       " 'Mumbai': 95.0}"
      ]
     },
     "execution_count": 40,
     "metadata": {},
     "output_type": "execute_result"
    }
   ],
   "source": [
    "cel_to_fah1(Chennai = 36, Bangalore = 29, Hyd= 34, Delhi= 29, Mumbai= 35)"
   ]
  },
  {
   "cell_type": "code",
   "execution_count": 48,
   "metadata": {
    "scrolled": true
   },
   "outputs": [
    {
     "ename": "SyntaxError",
     "evalue": "unexpected EOF while parsing (<ipython-input-48-73766dff8949>, line 2)",
     "output_type": "error",
     "traceback": [
      "\u001b[1;36m  File \u001b[1;32m\"<ipython-input-48-73766dff8949>\"\u001b[1;36m, line \u001b[1;32m2\u001b[0m\n\u001b[1;33m    dict(map(cel_to_fah1(Chennai = 36, Bangalore = 29, Hyd= 34, Delhi= 29, Mumbai= 35))\u001b[0m\n\u001b[1;37m                                                                                       ^\u001b[0m\n\u001b[1;31mSyntaxError\u001b[0m\u001b[1;31m:\u001b[0m unexpected EOF while parsing\n"
     ]
    }
   ],
   "source": [
    "dicti = {'Chennai' : 36, 'Bangalore' : 29, 'Hyd':34, 'Delhi': 29, 'Mumbai': 35}\n",
    "dict(map(cel_to_fah1(Chennai = 36, Bangalore = 29, Hyd= 34, Delhi= 29, Mumbai= 35))"
   ]
  },
  {
   "cell_type": "code",
   "execution_count": 4,
   "metadata": {},
   "outputs": [
    {
     "name": "stdout",
     "output_type": "stream",
     "text": [
      "{'Chennai': 96.8, 'Bangalore': 84.2, 'Hyd': 93.2, 'Delhi': 84.2, 'Mumbai': 95.0}\n"
     ]
    }
   ],
   "source": [
    "#way 3 : using ananymous functions\n",
    "dicta = {'Chennai' : 36, 'Bangalore' : 29, 'Hyd':34, 'Delhi': 29, 'Mumbai': 35}\n",
    "dictb = {}\n",
    "dictnames = {}\n",
    "fn = lambda data : (data[0] , (9/5)* data[1] + 32)\n",
    "dictb = dict(map(fn,dicta.items()))\n",
    "print(dictb)"
   ]
  },
  {
   "cell_type": "markdown",
   "metadata": {},
   "source": [
    "14/09\n",
    "\n",
    "> create a program to add the even numbers as a separate set from the exist set\n",
    "\n",
    "    input = {23,52,24,75,46,91}\n",
    "    \n",
    "   "
   ]
  },
  {
   "cell_type": "code",
   "execution_count": 21,
   "metadata": {},
   "outputs": [
    {
     "name": "stdout",
     "output_type": "stream",
     "text": [
      "{24, 52, 46}\n"
     ]
    }
   ],
   "source": [
    "inputset = {23,52,24,75,46,91}\n",
    "outputset = set()\n",
    "fn = lambda a : (a%2==0)\n",
    "print(set(filter(fn,inputset)))"
   ]
  },
  {
   "cell_type": "markdown",
   "metadata": {},
   "source": [
    "15/09\n",
    "   > Merge the two dictionaries into 1 \n",
    "  \n",
    "  \n",
    "      \n",
    "      dict1 = {'june': 110 , 'August':223 , 'May':231}\n",
    "      dict2 = {'may': 231 , 'December':123 , 'March':235}\n",
    "      \n",
    "      output = {'june': 110 , 'August':223 ,'may': 231 , 'December':123 , 'March':235}"
   ]
  },
  {
   "cell_type": "code",
   "execution_count": 2,
   "metadata": {},
   "outputs": [
    {
     "name": "stdout",
     "output_type": "stream",
     "text": [
      "{'August', 'May', 'june'}\n",
      "{'May', 'December', 'March'}\n",
      "june 110\n",
      "August 223\n",
      "May 231\n",
      "{'May': 231, 'December': 123, 'March': 235, 'june': 110, 'August': 223}\n"
     ]
    }
   ],
   "source": [
    "dict1 = {'june': 110 , 'August':223 , 'May':231}\n",
    "dict2 = {'May': 231 , 'December':123 , 'March':235}\n",
    "dict3 = {}\n",
    "print(set(dict1))\n",
    "print(set(dict2))\n",
    "for i in dict1.items():\n",
    "    print(i[0],i[1])\n",
    "    if i not in dict2:\n",
    "        dict2[i[0]] = i[1]\n",
    "\n",
    "print(dict2)\n",
    "    "
   ]
  },
  {
   "cell_type": "markdown",
   "metadata": {},
   "source": [
    "16/09\n",
    "\n",
    "> Create a python code to sort a list of tuples using lambda\n",
    "\n",
    "    input =  [('Comp', 76) , ('cpu', 82), ('mouse',98) , ('Processor', 65) ]\n",
    "    output =  [('Processor', 65), ('Comp', 76) , ('cpu', 82), ('mouse',98)]"
   ]
  },
  {
   "cell_type": "code",
   "execution_count": 4,
   "metadata": {},
   "outputs": [
    {
     "name": "stdout",
     "output_type": "stream",
     "text": [
      "[('Processor', 65), ('Comp', 76), ('cpu', 82), ('mouse', 98)]\n",
      "[('Processor', 65), ('Comp', 76), ('cpu', 82), ('mouse', 98)]\n"
     ]
    }
   ],
   "source": [
    "input =  [('Comp', 76) , ('cpu', 82), ('mouse',98) , ('Processor', 65) ]\n",
    "lstg = []\n",
    "print(sorted(input, key = lambda a : a[1]))\n",
    "lstg =sorted(input, key = lambda a : a[1])\n",
    "print(lstg)\n",
    " \n",
    "   "
   ]
  },
  {
   "cell_type": "markdown",
   "metadata": {},
   "source": [
    "17/09\n",
    "\n",
    "> Write a puthon code to return the longest word from the list of words\n",
    "     \n",
    "     input = [\"Welcome\" , \"to\", \"python\" \"world\"]\n",
    "     output = Welcome\n",
    " "
   ]
  },
  {
   "cell_type": "code",
   "execution_count": 38,
   "metadata": {},
   "outputs": [
    {
     "name": "stdout",
     "output_type": "stream",
     "text": [
      "Longest word :  Welcome\n",
      "shortest word :  to\n"
     ]
    }
   ],
   "source": [
    "inputa = [\"Welcome\" , \"to\", \"python\", \"world\"]\n",
    "lista = sorted(inputa, key = len)\n",
    "lista\n",
    "print(\"Longest word : \" , lista[-1])\n",
    "print(\"shortest word : \" , lista[0])"
   ]
  },
  {
   "cell_type": "code",
   "execution_count": 41,
   "metadata": {},
   "outputs": [
    {
     "name": "stdout",
     "output_type": "stream",
     "text": [
      "Welcome\n"
     ]
    },
    {
     "data": {
      "text/plain": [
       "'to'"
      ]
     },
     "execution_count": 41,
     "metadata": {},
     "output_type": "execute_result"
    }
   ],
   "source": [
    "inputa = [\"Welcome\" , \"to\", \"python\", \"world\"]\n",
    "print(max(inputa, key = len))\n",
    "min(inputa, key = len)"
   ]
  },
  {
   "cell_type": "markdown",
   "metadata": {},
   "source": [
    "18/09\n",
    "> python code to create a dictonary from string\n",
    "input = \"Python World\"\n",
    "output: {p:1 , y:1 , t:1 , h:1 , o:2 , n:1 , w:1 , r:1, l:1 , d:1}"
   ]
  },
  {
   "cell_type": "code",
   "execution_count": 43,
   "metadata": {},
   "outputs": [
    {
     "data": {
      "text/plain": [
       "{'P': 1,\n",
       " 'y': 1,\n",
       " 't': 1,\n",
       " 'h': 1,\n",
       " 'o': 2,\n",
       " 'n': 1,\n",
       " ' ': 1,\n",
       " 'W': 1,\n",
       " 'r': 1,\n",
       " 'l': 1,\n",
       " 'd': 1}"
      ]
     },
     "execution_count": 43,
     "metadata": {},
     "output_type": "execute_result"
    }
   ],
   "source": [
    "input = \"Python World\"\n",
    "dicta = {}\n",
    "for eachchar in input:\n",
    "    dicta[eachchar] = input.count(eachchar)\n",
    "dicta"
   ]
  },
  {
   "cell_type": "code",
   "execution_count": 44,
   "metadata": {},
   "outputs": [
    {
     "data": {
      "text/plain": [
       "{'P': 1,\n",
       " 'y': 1,\n",
       " 't': 1,\n",
       " 'h': 1,\n",
       " 'o': 2,\n",
       " 'n': 1,\n",
       " ' ': 1,\n",
       " 'W': 1,\n",
       " 'r': 1,\n",
       " 'l': 1,\n",
       " 'd': 1}"
      ]
     },
     "execution_count": 44,
     "metadata": {},
     "output_type": "execute_result"
    }
   ],
   "source": [
    "def count_of_char (inputa):\n",
    "    dictb = {}\n",
    "    for eachchar in input:\n",
    "        dictb[eachchar] = input.count(eachchar)\n",
    "    return dictb\n",
    "\n",
    "count_of_char(\"Python World\")"
   ]
  },
  {
   "cell_type": "code",
   "execution_count": 45,
   "metadata": {},
   "outputs": [
    {
     "ename": "NameError",
     "evalue": "name 'count' is not defined",
     "output_type": "error",
     "traceback": [
      "\u001b[1;31m---------------------------------------------------------------------------\u001b[0m",
      "\u001b[1;31mNameError\u001b[0m                                 Traceback (most recent call last)",
      "\u001b[1;32m<ipython-input-45-7edfbea4d8a8>\u001b[0m in \u001b[0;36m<module>\u001b[1;34m\u001b[0m\n\u001b[0;32m      1\u001b[0m \u001b[0mfn\u001b[0m \u001b[1;33m=\u001b[0m \u001b[1;32mlambda\u001b[0m \u001b[0ma\u001b[0m \u001b[1;33m:\u001b[0m \u001b[0mcount\u001b[0m\u001b[1;33m(\u001b[0m\u001b[0ma\u001b[0m\u001b[1;33m)\u001b[0m\u001b[1;33m\u001b[0m\u001b[1;33m\u001b[0m\u001b[0m\n\u001b[1;32m----> 2\u001b[1;33m \u001b[0mlist\u001b[0m\u001b[1;33m(\u001b[0m\u001b[0mmap\u001b[0m\u001b[1;33m(\u001b[0m\u001b[0mfn\u001b[0m\u001b[1;33m,\u001b[0m \u001b[1;34m\"Python World\"\u001b[0m\u001b[1;33m)\u001b[0m\u001b[1;33m)\u001b[0m\u001b[1;33m\u001b[0m\u001b[1;33m\u001b[0m\u001b[0m\n\u001b[0m",
      "\u001b[1;32m<ipython-input-45-7edfbea4d8a8>\u001b[0m in \u001b[0;36m<lambda>\u001b[1;34m(a)\u001b[0m\n\u001b[1;32m----> 1\u001b[1;33m \u001b[0mfn\u001b[0m \u001b[1;33m=\u001b[0m \u001b[1;32mlambda\u001b[0m \u001b[0ma\u001b[0m \u001b[1;33m:\u001b[0m \u001b[0mcount\u001b[0m\u001b[1;33m(\u001b[0m\u001b[0ma\u001b[0m\u001b[1;33m)\u001b[0m\u001b[1;33m\u001b[0m\u001b[1;33m\u001b[0m\u001b[0m\n\u001b[0m\u001b[0;32m      2\u001b[0m \u001b[0mlist\u001b[0m\u001b[1;33m(\u001b[0m\u001b[0mmap\u001b[0m\u001b[1;33m(\u001b[0m\u001b[0mfn\u001b[0m\u001b[1;33m,\u001b[0m \u001b[1;34m\"Python World\"\u001b[0m\u001b[1;33m)\u001b[0m\u001b[1;33m)\u001b[0m\u001b[1;33m\u001b[0m\u001b[1;33m\u001b[0m\u001b[0m\n",
      "\u001b[1;31mNameError\u001b[0m: name 'count' is not defined"
     ]
    }
   ],
   "source": [
    "fn = lambda a : count(a)\n",
    "list(map(fn, \"Python World\"))"
   ]
  },
  {
   "cell_type": "code",
   "execution_count": null,
   "metadata": {},
   "outputs": [],
   "source": []
  }
 ],
 "metadata": {
  "kernelspec": {
   "display_name": "Python 3",
   "language": "python",
   "name": "python3"
  },
  "language_info": {
   "codemirror_mode": {
    "name": "ipython",
    "version": 3
   },
   "file_extension": ".py",
   "mimetype": "text/x-python",
   "name": "python",
   "nbconvert_exporter": "python",
   "pygments_lexer": "ipython3",
   "version": "3.8.3"
  }
 },
 "nbformat": 4,
 "nbformat_minor": 4
}
