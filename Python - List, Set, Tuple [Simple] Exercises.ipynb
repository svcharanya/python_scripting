{
 "cells": [
  {
   "cell_type": "markdown",
   "metadata": {},
   "source": [
    "1) Write a program which accepts a sequence of comma-separated numbers from console and generate a list and a tuple which contains every number.\n",
    "\n",
    "Sample Input    : 34,67,55,33,12,98\n",
    "Expected output : ['34', '67', '55', '33', '12', '98']"
   ]
  },
  {
   "cell_type": "code",
   "execution_count": 9,
   "metadata": {},
   "outputs": [
    {
     "name": "stdout",
     "output_type": "stream",
     "text": [
      "Enter the input sequence: 34,67,55,33,12,98\n",
      "34,67,55,33,12,98\n",
      "('34', '67', '55', '33', '12', '98')\n"
     ]
    }
   ],
   "source": [
    "#Solution: \n",
    "sampleinp = input(\"Enter the input sequence: \")\n",
    "print(sampleinp)  #any input from input() is a String. the output is '34,67,55,33,12,98'. To manipualte with string, split. \n",
    "#split returns a list\n",
    "ls = sampleinp.split(\",\")\n",
    "print(ls)\n",
    "tu = tuple(ls)\n",
    "print(tu)"
   ]
  },
  {
   "cell_type": "markdown",
   "metadata": {},
   "source": [
    "2) With a given tuple, Write a program to print the first half values in one line and the last half values in one line.\n",
    "\n",
    "Sample Input    : (1,2,3,4,5,6,7,8,9,10, 11)\n",
    "Expected output : (1,2,3,4,5)\n",
    "\t\t          (6,7,8,9,10)"
   ]
  },
  {
   "cell_type": "code",
   "execution_count": 8,
   "metadata": {},
   "outputs": [
    {
     "name": "stdout",
     "output_type": "stream",
     "text": [
      "(1, 2, 3, 4, 5)\n",
      "(6, 7, 8, 9, 10)\n"
     ]
    }
   ],
   "source": [
    "#Solution: \n",
    "inputtuple = (1,2,3,4,5,6,7,8,9,10, 11)\n",
    "output1 = inputtuple[0:5]\n",
    "output2 = inputtuple[5:len(inputtuple)-1]\n",
    "print(output1)\n",
    "print(output2)"
   ]
  },
  {
   "cell_type": "markdown",
   "metadata": {},
   "source": [
    "3) Write a program to generate and print another tuple whose values are even numbers in the given tuple\n",
    "\n",
    "Sample Input  : (1,2,3,4,5,6,7,8,9,10)    \n",
    "Expected Output : (2, 4, 6, 8, 10)"
   ]
  },
  {
   "cell_type": "code",
   "execution_count": 12,
   "metadata": {},
   "outputs": [
    {
     "name": "stdout",
     "output_type": "stream",
     "text": [
      "(2, 4, 6, 8, 10)\n"
     ]
    }
   ],
   "source": [
    "#Solutions: \n",
    "tup = (1,2,3,4,5,6,7,8,9,10)\n",
    "output = tup[1::2]\n",
    "print(output)"
   ]
  },
  {
   "cell_type": "markdown",
   "metadata": {},
   "source": [
    "4) With two given lists, write a program to make a list, whose elements are intersection of the above given lists.\n",
    "\n",
    "Sample inputs   : [12,3,6,88,35,55]\n",
    "                  [12,24,35,24,88,120,155]\n",
    "\n",
    "Expected output : [12,88,35]"
   ]
  },
  {
   "cell_type": "code",
   "execution_count": 38,
   "metadata": {},
   "outputs": [
    {
     "name": "stdout",
     "output_type": "stream",
     "text": [
      "['12', '88', '35']\n"
     ]
    }
   ],
   "source": [
    "#Solutions: 1:  \n",
    "lst1 = ['12','3','6','88','35','55'] \n",
    "lst2 = ['12','24','35','24','88','120','155']\n",
    "lst3 = []\n",
    "for i in range(0,len(lst1),1):\n",
    "    if(lst1[i] in lst2):\n",
    "        lst3.append(lst1[i])\n",
    "    \n",
    "print(lst3)"
   ]
  },
  {
   "cell_type": "code",
   "execution_count": 41,
   "metadata": {},
   "outputs": [
    {
     "name": "stdout",
     "output_type": "stream",
     "text": [
      "['12', '88', '35']\n"
     ]
    }
   ],
   "source": [
    "# Soution 2: \n",
    "lst1 = ['12','3','6','88','35','55'] \n",
    "lst2 = ['12','24','35','24','88','120','155']\n",
    "lst3 = []\n",
    "for i in range(0,len(lst1)):\n",
    "    for j in range(0,len(lst2)):\n",
    "        if lst1[i] == lst2[j]:\n",
    "            lst3.append(lst1[i])\n",
    "            \n",
    "print(lst3)\n"
   ]
  },
  {
   "cell_type": "markdown",
   "metadata": {},
   "source": [
    "5) With a given list, write a program to print this list after removing all duplicate values with original order reserved.\n",
    "\n",
    "Sample Input     : [12,24,35,24,88,155,88,120,155]\n",
    "Expected output  : [12, 24, 35, 88, 155, 120]"
   ]
  },
  {
   "cell_type": "code",
   "execution_count": 109,
   "metadata": {},
   "outputs": [
    {
     "name": "stdout",
     "output_type": "stream",
     "text": [
      "[12, 24, 35, 24, 88, 155, 88, 120, 155]\n",
      "****\n",
      "Length = 9\n",
      "[12, 24, 35, 24, 88, 155, 88, 120, 155]\n",
      "Length = 8\n",
      "[12, 24, 35, 88, 155, 88, 120, 155]\n",
      "Length = 8\n",
      "[12, 24, 35, 88, 155, 88, 120, 155]\n",
      "Length = 7\n",
      "[12, 24, 35, 88, 155, 120, 155]\n",
      "Length = 6\n",
      "[12, 24, 35, 88, 155, 120]\n",
      "Length = 6\n",
      "[12, 24, 35, 88, 155, 120]\n",
      "Length = 6\n",
      "[12, 24, 35, 88, 155, 120]\n",
      "Length = 6\n",
      "[12, 24, 35, 88, 155, 120]\n",
      "Length = 6\n",
      "[12, 24, 35, 88, 155, 120]\n"
     ]
    }
   ],
   "source": [
    "# Solution\n",
    "lsta =  [12,24,35,24,88,155,88,120,155]\n",
    "lstb = lsta.copy()\n",
    "lstc = []\n",
    "flag = 0\n",
    "#print(lsta)\n",
    "print(lstb)\n",
    "print('****')\n",
    "for i in range(0,len(lstb)):\n",
    "    \n",
    "    for j in range(i+1,lenb):\n",
    "        if lstb[i] == lstb[j]:\n",
    "            lstb.pop(j)\n",
    "            break\n",
    "        #else:\n",
    "    lenb = len(lstb)\n",
    "    print(\"Length = \" + str(lenb))\n",
    "    print(lstb) \n",
    "    #   flag = flag + 1 \n",
    "#print(lstb)"
   ]
  },
  {
   "cell_type": "code",
   "execution_count": 110,
   "metadata": {},
   "outputs": [
    {
     "name": "stdout",
     "output_type": "stream",
     "text": [
      "[12, 24, 35, 24, 88, 155, 88, 120, 155, 24]\n",
      "****\n",
      "Length = 10\n",
      "[12, 24, 35, 24, 88, 155, 88, 120, 155, 24]\n",
      "Length = 9\n",
      "[12, 24, 35, 88, 155, 88, 120, 155, 24]\n",
      "Length = 9\n",
      "[12, 24, 35, 88, 155, 88, 120, 155, 24]\n",
      "Length = 8\n",
      "[12, 24, 35, 88, 155, 120, 155, 24]\n",
      "Length = 7\n",
      "[12, 24, 35, 88, 155, 120, 24]\n",
      "Length = 7\n",
      "[12, 24, 35, 88, 155, 120, 24]\n",
      "Length = 7\n",
      "[12, 24, 35, 88, 155, 120, 24]\n",
      "Length = 7\n",
      "[12, 24, 35, 88, 155, 120, 24]\n",
      "Length = 7\n",
      "[12, 24, 35, 88, 155, 120, 24]\n",
      "Length = 7\n",
      "[12, 24, 35, 88, 155, 120, 24]\n"
     ]
    }
   ],
   "source": [
    "lsta =  [12,24,35,24,88,155,88,120,155,24]\n",
    "lstb = lsta.copy()\n",
    "lstc = []\n",
    "flag = 0\n",
    "#print(lsta)\n",
    "print(lstb)\n",
    "print('****')\n",
    "for i in range(0,len(lstb)):\n",
    "    \n",
    "    for j in range(i+1,lenb):\n",
    "        if lstb[i] == lstb[j]:\n",
    "            lstb.pop(j)\n",
    "            break\n",
    "        #else:\n",
    "    lenb = len(lstb)\n",
    "    print(\"Length = \" + str(lenb))\n",
    "    print(lstb) \n",
    "    #   flag = flag + 1 \n",
    "#print(lstb)"
   ]
  },
  {
   "cell_type": "code",
   "execution_count": null,
   "metadata": {},
   "outputs": [],
   "source": []
  }
 ],
 "metadata": {
  "kernelspec": {
   "display_name": "Python 3",
   "language": "python",
   "name": "python3"
  },
  "language_info": {
   "codemirror_mode": {
    "name": "ipython",
    "version": 3
   },
   "file_extension": ".py",
   "mimetype": "text/x-python",
   "name": "python",
   "nbconvert_exporter": "python",
   "pygments_lexer": "ipython3",
   "version": "3.8.3"
  }
 },
 "nbformat": 4,
 "nbformat_minor": 2
}
