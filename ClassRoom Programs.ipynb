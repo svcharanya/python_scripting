{
 "cells": [
  {
   "cell_type": "markdown",
   "metadata": {},
   "source": [
    "# Class Programs"
   ]
  },
  {
   "cell_type": "markdown",
   "metadata": {},
   "source": [
    "**List Programs**"
   ]
  },
  {
   "cell_type": "code",
   "execution_count": 3,
   "metadata": {},
   "outputs": [
    {
     "name": "stdout",
     "output_type": "stream",
     "text": [
      "4\n",
      "Sam\n",
      "2\n",
      "Sharath\n",
      "0\n",
      "Gopi\n"
     ]
    }
   ],
   "source": [
    "####06/09\n",
    "#1. \n",
    "# to print the list of even positioned element in reverse order\n",
    "name = ['Gopi', 'Babu', 'Sharath', 'Dhivya' , 'Sam']\n",
    "for i in range(len(name)-1,-1,-2):\n",
    "    print(i)\n",
    "    print (name[i])"
   ]
  },
  {
   "cell_type": "code",
   "execution_count": 5,
   "metadata": {},
   "outputs": [
    {
     "name": "stdout",
     "output_type": "stream",
     "text": [
      "['Gopi', 'Sharath', 'Sam']\n"
     ]
    },
    {
     "data": {
      "text/plain": [
       "['Sam', 'Sharath', 'Gopi']"
      ]
     },
     "execution_count": 5,
     "metadata": {},
     "output_type": "execute_result"
    }
   ],
   "source": [
    "#second possible way\n",
    "name1 = ['Gopi', 'Babu', 'Sharath', 'Dhivya' , 'Sam']\n",
    "lst = []\n",
    "for i in range(0,len(name1),2):\n",
    "    lst.append(name1[i])\n",
    "print(lst)\n",
    "list(reversed(lst))"
   ]
  },
  {
   "cell_type": "code",
   "execution_count": 8,
   "metadata": {},
   "outputs": [
    {
     "name": "stdout",
     "output_type": "stream",
     "text": [
      "['Sam', 'Sharath', 'Gopi']\n"
     ]
    }
   ],
   "source": [
    "#third possible way - slicing\n",
    "lst1 = name1[::-2]\n",
    "print(lst1)"
   ]
  },
  {
   "cell_type": "markdown",
   "metadata": {},
   "source": [
    "**Tuple Programs**"
   ]
  },
  {
   "cell_type": "code",
   "execution_count": null,
   "metadata": {},
   "outputs": [],
   "source": [
    "###07/09: \n",
    "# Exervice questions are in the ' Python - List, Set, Tuple [Simple] Exercises.ipynb '\n"
   ]
  }
 ],
 "metadata": {
  "kernelspec": {
   "display_name": "Python 3",
   "language": "python",
   "name": "python3"
  },
  "language_info": {
   "codemirror_mode": {
    "name": "ipython",
    "version": 3
   },
   "file_extension": ".py",
   "mimetype": "text/x-python",
   "name": "python",
   "nbconvert_exporter": "python",
   "pygments_lexer": "ipython3",
   "version": "3.8.3"
  }
 },
 "nbformat": 4,
 "nbformat_minor": 4
}
