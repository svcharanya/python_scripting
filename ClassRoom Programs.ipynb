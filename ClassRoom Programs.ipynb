{
 "cells": [
  {
   "cell_type": "markdown",
   "metadata": {},
   "source": [
    "# Class Programs"
   ]
  },
  {
   "cell_type": "markdown",
   "metadata": {},
   "source": [
    "**List Programs**"
   ]
  },
  {
   "cell_type": "code",
   "execution_count": 3,
   "metadata": {},
   "outputs": [
    {
     "name": "stdout",
     "output_type": "stream",
     "text": [
      "4\n",
      "Sam\n",
      "2\n",
      "Sharath\n",
      "0\n",
      "Gopi\n"
     ]
    }
   ],
   "source": [
    "####06/09\n",
    "#1. \n",
    "# to print the list of even positioned element in reverse order\n",
    "name = ['Gopi', 'Babu', 'Sharath', 'Dhivya' , 'Sam']\n",
    "for i in range(len(name)-1,-1,-2):\n",
    "    print(i)\n",
    "    print (name[i])"
   ]
  },
  {
   "cell_type": "code",
   "execution_count": 5,
   "metadata": {},
   "outputs": [
    {
     "name": "stdout",
     "output_type": "stream",
     "text": [
      "['Gopi', 'Sharath', 'Sam']\n"
     ]
    },
    {
     "data": {
      "text/plain": [
       "['Sam', 'Sharath', 'Gopi']"
      ]
     },
     "execution_count": 5,
     "metadata": {},
     "output_type": "execute_result"
    }
   ],
   "source": [
    "#second possible way\n",
    "name1 = ['Gopi', 'Babu', 'Sharath', 'Dhivya' , 'Sam']\n",
    "lst = []\n",
    "for i in range(0,len(name1),2):\n",
    "    lst.append(name1[i])\n",
    "print(lst)\n",
    "list(reversed(lst))"
   ]
  },
  {
   "cell_type": "code",
   "execution_count": 8,
   "metadata": {},
   "outputs": [
    {
     "name": "stdout",
     "output_type": "stream",
     "text": [
      "['Sam', 'Sharath', 'Gopi']\n"
     ]
    }
   ],
   "source": [
    "#third possible way - slicing\n",
    "lst1 = name1[::-2]\n",
    "print(lst1)"
   ]
  },
  {
   "cell_type": "markdown",
   "metadata": {},
   "source": [
    "**Tuple Programs**"
   ]
  },
  {
   "cell_type": "code",
   "execution_count": null,
   "metadata": {},
   "outputs": [],
   "source": [
    "###07/09: \n",
    "# Exervice questions are in the ' Python - List, Set, Tuple [Simple] Exercises.ipynb '\n"
   ]
  },
  {
   "cell_type": "code",
   "execution_count": 2,
   "metadata": {},
   "outputs": [
    {
     "data": {
      "text/plain": [
       "[35]"
      ]
     },
     "execution_count": 2,
     "metadata": {},
     "output_type": "execute_result"
    }
   ],
   "source": [
    "### 12/09\n",
    "# Questions related to List, tuple and Set\n",
    "\n",
    "#1.  With 2 given lists , write a program to make a list whose elements are intersections of the given lists\n",
    "#[1,3,6,78,35,55]\n",
    "#[12,24,35,24,88,120,155]\n",
    "\n",
    "lista = [1,3,6,78,35,55]\n",
    "listb = [12,24,35,24,88,120,155]\n",
    "listc = list(set(lista).intersection(set(listb)))\n",
    "listc"
   ]
  },
  {
   "cell_type": "code",
   "execution_count": 17,
   "metadata": {},
   "outputs": [
    {
     "data": {
      "text/plain": [
       "[12, 24, 35, 88, 155, 120]"
      ]
     },
     "execution_count": 17,
     "metadata": {},
     "output_type": "execute_result"
    }
   ],
   "source": [
    "##2. With the given list, write a program to print this list after removing all duplicate values with original order reveresed\n",
    "#input [12,24,35,24,88,155,88,120,155]\n",
    "##output [12,24,35,88,155,120]\n",
    "\n",
    "listi = [12,24,35,24,88,155,88,120,155]\n",
    "listj = []\n",
    "for i in range(0,len(listi)):\n",
    "    if(listi[i] not in listj):\n",
    "        listj.append(listi[i])\n",
    "listj"
   ]
  },
  {
   "cell_type": "code",
   "execution_count": 18,
   "metadata": {},
   "outputs": [
    {
     "data": {
      "text/plain": [
       "[12, 24, 35, 24, 88, 155, 88, 120, 155]"
      ]
     },
     "execution_count": 18,
     "metadata": {},
     "output_type": "execute_result"
    }
   ],
   "source": [
    "\n",
    "listi = [12,24,35,24,88,155,88,120,155]\n",
    "listj = []\n",
    "s = set()\n",
    "for i in range(0,len(listi)):\n",
    "    s = set(listi[i])\n",
    "    "
   ]
  },
  {
   "cell_type": "code",
   "execution_count": 26,
   "metadata": {},
   "outputs": [
    {
     "name": "stdout",
     "output_type": "stream",
     "text": [
      "{1: 1, 2: 4, 3: 9, 4: 16, 5: 25, 6: 36, 7: 49, 8: 64}\n"
     ]
    }
   ],
   "source": [
    "### 12/09\n",
    "# Questions related to Dict\n",
    "\n",
    "\n",
    "#1. Write a program to generate a dictionary that contains (i, i*i) such that is an integral number between 1 and n (both included). and then the program should print the dictionary.\n",
    "    \n",
    " #   input  : 8\n",
    " #   output : {1: 1, 2: 4, 3: 9, 4: 16, 5: 25, 6: 36, 7: 49, 8: 64} \n",
    "    \n",
    "inp = 8\n",
    "outp = 0\n",
    "dict = {}\n",
    "for i in range(1, 9):\n",
    "    outp = i*i\n",
    "    dict[i] = outp\n",
    "print(dict)"
   ]
  },
  {
   "cell_type": "code",
   "execution_count": 13,
   "metadata": {},
   "outputs": [
    {
     "name": "stdout",
     "output_type": "stream",
     "text": [
      "[{1: 1}, {2: 4}, {3: 9}, {4: 16}, {5: 25}, {6: 36}, {7: 49}, {8: 64}]\n"
     ]
    }
   ],
   "source": [
    "inp = 8 \n",
    "outp = 0\n",
    "lst = []\n",
    "dicta = {}\n",
    "for i in range(1,inp+1):\n",
    "    lst.append(i)\n",
    "lst\n",
    "fn = lambda a : {a: a**2}\n",
    "lsta = list(map(fn,lst))\n",
    "print(lsta)\n",
    "\n",
    "\n",
    "    "
   ]
  },
  {
   "cell_type": "code",
   "execution_count": 33,
   "metadata": {},
   "outputs": [
    {
     "name": "stdout",
     "output_type": "stream",
     "text": [
      "{'e': 2}\n"
     ]
    }
   ],
   "source": [
    "#2. Write a Program for get given character count for given String\n",
    "#input  -> 'testleaf'\n",
    "#input  -> 'e'\n",
    "#output -> {'e': 2}\n",
    "\n",
    "input = 'testleaf'\n",
    "output = {}\n",
    "char = 'e'\n",
    "num = 0\n",
    "for i in input:\n",
    "    if(i == char):\n",
    "        num = input.count(char)\n",
    "        output[char] = num\n",
    "        break\n",
    "    else:\n",
    "        continue\n",
    "print(output)"
   ]
  },
  {
   "cell_type": "code",
   "execution_count": 40,
   "metadata": {},
   "outputs": [
    {
     "name": "stdout",
     "output_type": "stream",
     "text": [
      "{'e': 2}\n"
     ]
    }
   ],
   "source": [
    "txt = 'testleaf'\n",
    "ch = 'e'\n",
    "count = 0\n",
    "char_dict = {}\n",
    "for eachstr in txt:\n",
    "    if(eachstr == ch):\n",
    "        count = count + 1\n",
    "        char_dict[eachstr] = count\n",
    "print(char_dict)"
   ]
  },
  {
   "cell_type": "code",
   "execution_count": 38,
   "metadata": {},
   "outputs": [
    {
     "name": "stdout",
     "output_type": "stream",
     "text": [
      "t 2\n",
      "e 2\n",
      "s 1\n",
      "t 2\n",
      "l 1\n",
      "e 2\n",
      "a 1\n",
      "f 1\n",
      "{'t': 2, 'e': 2, 's': 1, 'l': 1, 'a': 1, 'f': 1}\n"
     ]
    }
   ],
   "source": [
    "#3. Write a code for print each character count for given String.\n",
    "#input  -> \"testleaf\"\n",
    "#output -> {'t': 2, 'e': 2, 's': 1, 'l': 1, 'a': 1, 'f': 1}\n",
    "#way 1\n",
    "inputa = 'testleaf'\n",
    "outputa = {}\n",
    "num = 0\n",
    "for i in inputa:\n",
    "    num = inputa.count(i)\n",
    "    print(i,num)\n",
    "    outputa[i] = num\n",
    "print(outputa)"
   ]
  },
  {
   "cell_type": "code",
   "execution_count": 45,
   "metadata": {},
   "outputs": [
    {
     "name": "stdout",
     "output_type": "stream",
     "text": [
      "['Data', 'hello', 'Data']\n",
      "{'Data': 2, 'hello': 1}\n"
     ]
    }
   ],
   "source": [
    "#4. Write a code for print each word count for given String.\n",
    "#input  -> \"Data hello Data\"\n",
    "#output -> \"{'Data': 2, 'hello': 1}\"\n",
    "\n",
    "inputa = \"Data hello Data\"\n",
    "lst = inputa.split(\" \")\n",
    "print(lst)\n",
    "dictl = {}\n",
    "for i in lst:\n",
    "    dictl[i] = lst.count(i)\n",
    "print(dictl)\n",
    "    \n"
   ]
  },
  {
   "cell_type": "code",
   "execution_count": 1,
   "metadata": {},
   "outputs": [],
   "source": [
    "#13/09 \n",
    "\n",
    "# Using Function - \n",
    "# 1. Factorial of number\n",
    "# 2. write a prog to print the numbers that are divisible by 5 & 7 between 0 to n in comma separated form while n is passed from input\n"
   ]
  },
  {
   "cell_type": "code",
   "execution_count": 18,
   "metadata": {},
   "outputs": [],
   "source": [
    "## 1. Factorial of number\n",
    "# inout = 8\n",
    "#output = 40320\n",
    "def factorial(n):\n",
    "    temp = 1\n",
    "    for i in range(1,n+1):\n",
    "        temp = i * temp\n",
    "    print(temp)\n",
    "    return(temp)    "
   ]
  },
  {
   "cell_type": "code",
   "execution_count": 20,
   "metadata": {},
   "outputs": [
    {
     "name": "stdout",
     "output_type": "stream",
     "text": [
      "40320\n",
      "40320\n"
     ]
    }
   ],
   "source": [
    "fact = factorial(8)\n",
    "print(fact)"
   ]
  },
  {
   "cell_type": "code",
   "execution_count": 36,
   "metadata": {},
   "outputs": [],
   "source": [
    "#write a prog to print the numbers that are divisible by 5 & 7 between 0 to n in comma separated form while n is passed from input\n",
    "\n",
    "def divisible(n):\n",
    "    lst = []\n",
    "    var = 0\n",
    "    for i in range(0, n+1):\n",
    "        if(i % 5 == 0):\n",
    "            if(i % 7 == 0):\n",
    "                lst.append(i)\n",
    "    return lst          \n",
    "            "
   ]
  },
  {
   "cell_type": "code",
   "execution_count": 37,
   "metadata": {},
   "outputs": [
    {
     "data": {
      "text/plain": [
       "[0, 35, 70]"
      ]
     },
     "execution_count": 37,
     "metadata": {},
     "output_type": "execute_result"
    }
   ],
   "source": [
    "n = 100\n",
    "divisible(n)"
   ]
  },
  {
   "cell_type": "code",
   "execution_count": 39,
   "metadata": {},
   "outputs": [],
   "source": [
    "def divisible(n):\n",
    "    var = 0\n",
    "    for i in range(0, n+1):\n",
    "        if(i % 5 == 0) and (i % 7 == 0):\n",
    "            print(i, end = ',')  "
   ]
  },
  {
   "cell_type": "code",
   "execution_count": 40,
   "metadata": {},
   "outputs": [
    {
     "name": "stdout",
     "output_type": "stream",
     "text": [
      "0,35,70,"
     ]
    }
   ],
   "source": [
    "n = 100\n",
    "divisible(n)"
   ]
  },
  {
   "cell_type": "code",
   "execution_count": null,
   "metadata": {},
   "outputs": [],
   "source": [
    "# Anonymous functions\n",
    "# refer anonymous func sheet for exercises"
   ]
  }
 ],
 "metadata": {
  "kernelspec": {
   "display_name": "Python 3",
   "language": "python",
   "name": "python3"
  },
  "language_info": {
   "codemirror_mode": {
    "name": "ipython",
    "version": 3
   },
   "file_extension": ".py",
   "mimetype": "text/x-python",
   "name": "python",
   "nbconvert_exporter": "python",
   "pygments_lexer": "ipython3",
   "version": "3.8.3"
  }
 },
 "nbformat": 4,
 "nbformat_minor": 4
}
