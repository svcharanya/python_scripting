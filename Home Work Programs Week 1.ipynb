{
 "cells": [
  {
   "cell_type": "markdown",
   "metadata": {},
   "source": [
    "> 1.  Turn this every item of a list into its square\n",
    "    \n",
    "        input = [1, 2, 3, 4, 5, 6, 7]\n",
    "        output = [1, 4, 9, 16, 25, 36, 49]"
   ]
  },
  {
   "cell_type": "code",
   "execution_count": 23,
   "metadata": {},
   "outputs": [
    {
     "name": "stdout",
     "output_type": "stream",
     "text": [
      "[1, 4, 9, 16, 25, 36, 49]\n"
     ]
    }
   ],
   "source": [
    "lst = [1, 2, 3, 4, 5, 6, 7]\n",
    "lst_t = []\n",
    "for i in range(0,len(lst)):\n",
    "    lst_t.append(lst[i]*lst[i])\n",
    "print(lst_t)\n",
    "       "
   ]
  },
  {
   "cell_type": "markdown",
   "metadata": {},
   "source": [
    "> 2. Concatenate two lists in the following order\n",
    "     \n",
    "         input: list1 = [\"Hello \", \"Hi\"]\n",
    "         list2 = [\"Divya\", \"Sam\"]\n",
    "         output: ['Hello Divya', 'Hello Sam', 'Hi Divya', 'Hi Sam']"
   ]
  },
  {
   "cell_type": "code",
   "execution_count": 20,
   "metadata": {},
   "outputs": [
    {
     "name": "stdout",
     "output_type": "stream",
     "text": [
      "Hello  Divya\n",
      "Hello  Sam\n",
      "Hi Divya\n",
      "Hi Sam\n"
     ]
    }
   ],
   "source": [
    "list1 = [\"Hello \", \"Hi\"]\n",
    "list2 = [\"Divya\", \"Sam\"]\n",
    "for i in range(0,2):\n",
    "    for j in range(0,2):\n",
    "        print(list1[i] + \" \" + list2[j])"
   ]
  },
  {
   "cell_type": "markdown",
   "metadata": {},
   "source": [
    "> 3. Print the pattern as below\n",
    "\n",
    "        1\n",
    "        12\n",
    "        123\n",
    "        1234\n",
    "        12345"
   ]
  },
  {
   "cell_type": "code",
   "execution_count": 26,
   "metadata": {},
   "outputs": [
    {
     "name": "stdout",
     "output_type": "stream",
     "text": [
      "1\n",
      "12\n",
      "123\n",
      "1234\n",
      "12345\n"
     ]
    }
   ],
   "source": [
    "\n",
    "for i in range(1,6):\n",
    "    for j in range(1,i+1):\n",
    "        print(j, end = '')\n",
    "    print(\"\")\n"
   ]
  },
  {
   "cell_type": "code",
   "execution_count": 28,
   "metadata": {},
   "outputs": [
    {
     "name": "stdout",
     "output_type": "stream",
     "text": [
      "1\n",
      "12\n",
      "123\n",
      "1234\n",
      "12345\n"
     ]
    }
   ],
   "source": [
    "#Solution 2: \n",
    "for i in range(1,6):\n",
    "    num = 1\n",
    "    for j in range(1,i+1):\n",
    "        print(num, end = '')\n",
    "        num = num + 1\n",
    "    print(\"\")"
   ]
  },
  {
   "cell_type": "code",
   "execution_count": null,
   "metadata": {},
   "outputs": [],
   "source": []
  }
 ],
 "metadata": {
  "kernelspec": {
   "display_name": "Python 3",
   "language": "python",
   "name": "python3"
  },
  "language_info": {
   "codemirror_mode": {
    "name": "ipython",
    "version": 3
   },
   "file_extension": ".py",
   "mimetype": "text/x-python",
   "name": "python",
   "nbconvert_exporter": "python",
   "pygments_lexer": "ipython3",
   "version": "3.8.3"
  }
 },
 "nbformat": 4,
 "nbformat_minor": 4
}
