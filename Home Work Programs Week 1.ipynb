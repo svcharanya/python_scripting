{
 "cells": [
  {
   "cell_type": "markdown",
   "metadata": {},
   "source": [
    "> 1.  Turn this every item of a list into its square\n",
    "    \n",
    "        input = [1, 2, 3, 4, 5, 6, 7]\n",
    "        output = [1, 4, 9, 16, 25, 36, 49]"
   ]
  },
  {
   "cell_type": "code",
   "execution_count": 23,
   "metadata": {},
   "outputs": [
    {
     "name": "stdout",
     "output_type": "stream",
     "text": [
      "[1, 4, 9, 16, 25, 36, 49]\n"
     ]
    }
   ],
   "source": [
    "lst = [1, 2, 3, 4, 5, 6, 7]\n",
    "lst_t = []\n",
    "for i in range(0,len(lst)):\n",
    "    lst_t.append(lst[i]*lst[i])\n",
    "print(lst_t)\n",
    "       "
   ]
  },
  {
   "cell_type": "markdown",
   "metadata": {},
   "source": [
    "> 2. Concatenate two lists in the following order\n",
    "     \n",
    "         input: list1 = [\"Hello \", \"Hi\"]\n",
    "         list2 = [\"Divya\", \"Sam\"]\n",
    "         output: ['Hello Divya', 'Hello Sam', 'Hi Divya', 'Hi Sam']"
   ]
  },
  {
   "cell_type": "code",
   "execution_count": 20,
   "metadata": {},
   "outputs": [
    {
     "name": "stdout",
     "output_type": "stream",
     "text": [
      "Hello  Divya\n",
      "Hello  Sam\n",
      "Hi Divya\n",
      "Hi Sam\n"
     ]
    }
   ],
   "source": [
    "list1 = [\"Hello \", \"Hi\"]\n",
    "list2 = [\"Divya\", \"Sam\"]\n",
    "for i in range(0,2):\n",
    "    for j in range(0,2):\n",
    "        print(list1[i] + \" \" + list2[j])"
   ]
  },
  {
   "cell_type": "markdown",
   "metadata": {},
   "source": [
    "> 3. Print the pattern as below\n",
    "\n",
    "        1\n",
    "        12\n",
    "        123\n",
    "        1234\n",
    "        12345"
   ]
  },
  {
   "cell_type": "code",
   "execution_count": 26,
   "metadata": {},
   "outputs": [
    {
     "name": "stdout",
     "output_type": "stream",
     "text": [
      "1\n",
      "12\n",
      "123\n",
      "1234\n",
      "12345\n"
     ]
    }
   ],
   "source": [
    "\n",
    "for i in range(1,6):\n",
    "    for j in range(1,i+1):\n",
    "        print(j, end = '')\n",
    "    print(\"\")\n"
   ]
  },
  {
   "cell_type": "code",
   "execution_count": 28,
   "metadata": {},
   "outputs": [
    {
     "name": "stdout",
     "output_type": "stream",
     "text": [
      "1\n",
      "12\n",
      "123\n",
      "1234\n",
      "12345\n"
     ]
    }
   ],
   "source": [
    "#Solution 2: \n",
    "for i in range(1,6):\n",
    "    num = 1\n",
    "    for j in range(1,i+1):\n",
    "        print(num, end = '')\n",
    "        num = num + 1\n",
    "    print(\"\")"
   ]
  },
  {
   "cell_type": "markdown",
   "metadata": {},
   "source": [
    "> 9/9/20 \n",
    "\n",
    "> 1. Write a python program that accepts a word from the user and reverse it using for loop\n",
    "   \n",
    "        Input = \"Game\" Output = \"emag\""
   ]
  },
  {
   "cell_type": "code",
   "execution_count": 9,
   "metadata": {},
   "outputs": [
    {
     "name": "stdout",
     "output_type": "stream",
     "text": [
      "Enter the input string: Game\n",
      "The reversed string is : emaG\n"
     ]
    }
   ],
   "source": [
    "txt  = input(\"Enter the input string: \")\n",
    "output_txt = \"\"\n",
    "for i in range(len(txt)-1,-1,-1):\n",
    "    output_txt = output_txt + txt[i]\n",
    "print(\"The reversed string is : \" + output_txt)"
   ]
  },
  {
   "cell_type": "markdown",
   "metadata": {},
   "source": [
    "> 2. Check if the reversed string is a palindrome"
   ]
  },
  {
   "cell_type": "code",
   "execution_count": 4,
   "metadata": {},
   "outputs": [
    {
     "name": "stdout",
     "output_type": "stream",
     "text": [
      "Enter the input string: game\n",
      "The reversed string is : emag\n",
      "The given string is not a palindrome\n"
     ]
    }
   ],
   "source": [
    "txt  = input(\"Enter the input string: \")\n",
    "output_txt = \"\"\n",
    "for i in range(len(txt)-1,-1,-1):\n",
    "    output_txt = output_txt + txt[i]\n",
    "print(\"The reversed string is : \" + output_txt)\n",
    "if output_txt == txt:\n",
    "    print(\"The given string is a palindrome\")\n",
    "else:\n",
    "    print(\"The given string is not a palindrome\")"
   ]
  },
  {
   "cell_type": "markdown",
   "metadata": {},
   "source": [
    "> 10/09/2020\n",
    "\n",
    "> 1. Concatenate 2 lists index wise\n",
    "\n",
    "        list1 = [\"Wel\",\"t\", \"Py\",\"wor\"]\n",
    "        list2 = [\"come\",\"o\",\"thon\",\"ld\"]\n",
    "\n",
    "        output = ['Welcome', 'to', 'Python', 'world']\n"
   ]
  },
  {
   "cell_type": "code",
   "execution_count": 3,
   "metadata": {},
   "outputs": [
    {
     "name": "stdout",
     "output_type": "stream",
     "text": [
      "['Welcome', 'to', 'Python', 'world']\n"
     ]
    }
   ],
   "source": [
    "list1 = [\"Wel\",\"t\", \"Py\",\"wor\"]\n",
    "list2 = [\"come\",\"o\",\"thon\",\"ld\"]\n",
    "list3 =[] \n",
    "i = 0\n",
    "while (i<len(list1)):\n",
    "    list3.append(list1[i] + list2[i])\n",
    "    i = i+1\n",
    "print(list3)\n",
    "        "
   ]
  },
  {
   "cell_type": "code",
   "execution_count": 6,
   "metadata": {},
   "outputs": [
    {
     "name": "stdout",
     "output_type": "stream",
     "text": [
      "['Welcome', 'to', 'Python', 'world']\n"
     ]
    }
   ],
   "source": [
    "list1 = [\"Wel\",\"t\", \"Py\",\"wor\"]\n",
    "list2 = [\"come\",\"o\",\"thon\",\"ld\"]\n",
    "list3 =[] \n",
    "for i in range(0, len(list1)):\n",
    "    list3.append(list1[i] + list2[i])\n",
    "print(list3)"
   ]
  },
  {
   "cell_type": "code",
   "execution_count": null,
   "metadata": {},
   "outputs": [],
   "source": []
  }
 ],
 "metadata": {
  "kernelspec": {
   "display_name": "Python 3",
   "language": "python",
   "name": "python3"
  },
  "language_info": {
   "codemirror_mode": {
    "name": "ipython",
    "version": 3
   },
   "file_extension": ".py",
   "mimetype": "text/x-python",
   "name": "python",
   "nbconvert_exporter": "python",
   "pygments_lexer": "ipython3",
   "version": "3.8.3"
  }
 },
 "nbformat": 4,
 "nbformat_minor": 4
}
